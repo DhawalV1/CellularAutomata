{
 "cells": [
  {
   "cell_type": "markdown",
   "metadata": {},
   "source": [
    "# Deciding Maximality\n",
    "\n",
    "Non-uniform (hybrid) finite cellular automata (CAs) under null boundary condition\n",
    "share a very special property which the classical finite CAs or the non-uniform finite\n",
    "CAs under periodic boundary condition do not. This property is the maximality in\n",
    "cycle length, which means, the presence of a cycle of length $2^n − 1$ in an n-cell binary\n",
    "automaton. This property was first observed by Pries et. al. The maximal length\n",
    "CAs are reversible CAs.\n",
    "\n",
    "*A finite CA is a maximal length CA if all but one configuration of it\n",
    "are in a single cycle.*\n",
    "\n",
    "Hybrid rule vectors consisting of only rules 90 and 150 produces maximal length CA. This is a very generic algorithm to determine maximality, which takes exponential runtime. This is based upon [Exhaustive Search] and a experimental approach."
   ]
  },
  {
   "cell_type": "code",
   "execution_count": 17,
   "metadata": {},
   "outputs": [],
   "source": [
    "generate_binary_strings = lambda n: [format(i, f'0{n}b') for i in range(2**n)]\n",
    "\n",
    "def decideMaximality(n_input,index_set):\n",
    "    \n",
    "    # the index_set takes the rule vector by only including the index of cells following rule 90\n",
    "    # for example index_set = {0,2,4} means [90,150,90,150,90], index_set = {1,3,4} means [150,90,150,90,90]\n",
    "\n",
    "    rule_90 = {}\n",
    "    rule_150  = {}\n",
    "    r_90 = f'{90:0{8}b}'\n",
    "    r_150 = f'{150:0{8}b}'\n",
    "    for i,key in enumerate(generate_binary_strings(3)[::-1]):\n",
    "        rule_90[key] = r_90[i]\n",
    "        rule_150[key] = r_150[i]\n",
    "    \n",
    "\n",
    "    current = f'{1:0{n_input}b}'             #started with ...00001\n",
    "\n",
    "    rule_vector = [90 if i in index_set else 150 for i in range(n_input)]\n",
    "\n",
    "    print(\"The rule vector is\",rule_vector,\"and the cell length is\",n_input)\n",
    "    \n",
    "    have = current\n",
    "    new = '0'*(n_input+1)\n",
    "    periodicity = 0\n",
    "    store = {}\n",
    "    while have!=new:\n",
    "        \n",
    "        exec = '0' + current + '0'\n",
    "        new = ''\n",
    "        for i in range(len(exec)-2):\n",
    "            if i in index_set:\n",
    "                new += rule_90[exec[i:i+3]]\n",
    "            if i not in index_set:\n",
    "                new += rule_150[exec[i:i+3]]\n",
    "        if new in store:\n",
    "            \n",
    "            if new!=f'{1:0{n_input}b}':\n",
    "                return 'not cyclic thus not maximal'\n",
    "                \n",
    "        current = new\n",
    "        store[new] = periodicity\n",
    "        periodicity += 1\n",
    "    else:\n",
    "        if periodicity == 2**n_input-1:\n",
    "            for key in store.keys():\n",
    "                print(key)\n",
    "            print(\"periodicity is\",periodicity)\n",
    "            return \"maximal-length CA\"\n",
    "        else:\n",
    "            return \"Not a maximal_length CA\"\n",
    "\n"
   ]
  },
  {
   "cell_type": "code",
   "execution_count": 24,
   "metadata": {},
   "outputs": [
    {
     "name": "stdout",
     "output_type": "stream",
     "text": [
      "The rule vector is [90, 150, 90, 90] and the cell length is 4\n"
     ]
    },
    {
     "data": {
      "text/plain": [
       "'Not a maximal_length CA'"
      ]
     },
     "execution_count": 24,
     "metadata": {},
     "output_type": "execute_result"
    }
   ],
   "source": [
    "decideMaximality(4,{0,2,3})"
   ]
  },
  {
   "cell_type": "code",
   "execution_count": 75,
   "metadata": {},
   "outputs": [
    {
     "name": "stdout",
     "output_type": "stream",
     "text": [
      "The rule vector is [150, 150, 90, 150] and the cell length is 4\n",
      "0011\n",
      "0110\n",
      "1011\n",
      "1010\n",
      "1001\n",
      "1111\n",
      "0100\n",
      "1110\n",
      "0111\n",
      "1000\n",
      "1100\n",
      "0010\n",
      "0101\n",
      "1101\n",
      "0001\n",
      "periodicity is 15\n"
     ]
    },
    {
     "data": {
      "text/plain": [
       "'maximal-length CA'"
      ]
     },
     "execution_count": 75,
     "metadata": {},
     "output_type": "execute_result"
    }
   ],
   "source": [
    "decideMaximality(4,{2})"
   ]
  },
  {
   "cell_type": "code",
   "execution_count": 76,
   "metadata": {},
   "outputs": [
    {
     "name": "stdout",
     "output_type": "stream",
     "text": [
      "The rule vector is [150, 150, 90, 90] and the cell length is 4\n"
     ]
    },
    {
     "data": {
      "text/plain": [
       "'not cyclic thus not maximal'"
      ]
     },
     "execution_count": 76,
     "metadata": {},
     "output_type": "execute_result"
    }
   ],
   "source": [
    "decideMaximality(4,{2,3})"
   ]
  },
  {
   "cell_type": "markdown",
   "metadata": {},
   "source": [
    "# Non Palindromic Maximal Length CA\n",
    "Given a cellular automaton of length $n$, there can be $2^n$ rule vectors consisting a sequence of rule number 90 and 150. A palindromic rule vectors can not produce a primitive polynomial and thus a maximal length cellular automaton. It has been shown\n",
    "that the characteristic polynomials of an even length palindromic CA is the perfect\n",
    "square, and of an odd length palindromic CA is the product of a monomial and a\n",
    "perfect square. That means, the characteristic polynomial of a palindromic CA is\n",
    "always reducible. The number of palindromic rule vectors of cellular automaton of length $n$ is \n",
    "\\begin{cases} \n",
    "2^\\frac{n}{2} & \\text{if n is even }\\\\\n",
    "2^\\frac{n+1}{2} & \\text{if n is odd} \n",
    "\\end{cases}\n",
    "\n"
   ]
  },
  {
   "cell_type": "markdown",
   "metadata": {},
   "source": [
    "Now, we will take the set of all non-palindromic (non-symmetric) rule vectors of length, and extract the maximal length CAs (in the below code). The runtime of this brute-force extractor is $O(2^{2n})$."
   ]
  },
  {
   "cell_type": "code",
   "execution_count": 64,
   "metadata": {},
   "outputs": [],
   "source": [
    "def genRulesVectors(n):\n",
    "\n",
    "    # this output ['111', '110', '101', '100', '011', '010', '001', '000'], \n",
    "    generate_binary_strings = [format(i, f'0{3}b') for i in range(2**3)][::-1]\n",
    "\n",
    "    \n",
    "    # this generate all possible non-palindromic rules vectors\n",
    "    rules_vectors = [bin(i)[2:].zfill(n) for i in range(2**n) if bin(i)[2:].zfill(n) != bin(i)[2:].zfill(n)[::-1]]   \n",
    "\n",
    "    # this sets the rules of elementary cellular automata for 90 and 150\n",
    "    rule_90 = {}\n",
    "    rule_150  = {}\n",
    "    r_90 = f'{90:0{8}b}'        # '01011010'\n",
    "    r_150 = f'{150:0{8}b}'      # '10010110'\n",
    "   \n",
    "    generate_binary_strings = [format(i, f'0{3}b') for i in range(2**3)][::-1]   #['111', '110', '101', '100', '011', '010', '001', '000']\n",
    "\n",
    "    for i,key in enumerate(generate_binary_strings):\n",
    "        rule_90[key] = r_90[i]\n",
    "        rule_150[key] = r_150[i]\n",
    "\n",
    "    # check if a rule vectors produces maximal-length CA\n",
    "    numMaxLenCA = 0\n",
    "    for i in range(len(rules_vectors)):\n",
    "\n",
    "        current = f'{1:0{n}b}'             #started with ...00001\n",
    "        have = current\n",
    "        new = '0'*(n+1)\n",
    "        periodicity = 0\n",
    "        store = {}\n",
    "        while have!=new:\n",
    "            \n",
    "            exec = '0' + current + '0'\n",
    "            new = ''\n",
    "            for j in range(len(exec)-2):\n",
    "                if rules_vectors[i][j] == '0':\n",
    "                    new += rule_90[exec[j:j+3]]\n",
    "                else:\n",
    "                    new += rule_150[exec[j:j+3]]\n",
    "            if new in store:\n",
    "                \n",
    "                if new!=f'{1:0{n}b}':\n",
    "                    break\n",
    "                    \n",
    "            current = new\n",
    "            store[new] = periodicity\n",
    "            periodicity += 1\n",
    "        else:\n",
    "            if periodicity == 2**n-1:\n",
    "                numMaxLenCA += 1\n",
    "                print([90 if k=='0' else 150 for k in rules_vectors[i]])\n",
    "                \n",
    "    print(\"The total number of rule vectors producing maximal length CA are\",numMaxLenCA)\n",
    "    return numMaxLenCA\n",
    "                "
   ]
  },
  {
   "cell_type": "code",
   "execution_count": 181,
   "metadata": {},
   "outputs": [
    {
     "name": "stdout",
     "output_type": "stream",
     "text": [
      "[90, 150, 90, 150]\n",
      "[150, 90, 150, 90]\n",
      "[150, 90, 150, 150]\n",
      "[150, 150, 90, 150]\n",
      "The total number of rule vectors producing maximal length CA are 4\n"
     ]
    },
    {
     "data": {
      "text/plain": [
       "4"
      ]
     },
     "execution_count": 181,
     "metadata": {},
     "output_type": "execute_result"
    }
   ],
   "source": [
    "genRulesVectors(4)\n"
   ]
  },
  {
   "cell_type": "markdown",
   "metadata": {},
   "source": [
    "## Graph of number of maximal length CA versus n\n",
    "\n",
    "The following graph present the relationship between the finite cellular automaton total cell number, $n$ and the total number of possible rule-vectors for maximal length."
   ]
  },
  {
   "cell_type": "code",
   "execution_count": null,
   "metadata": {},
   "outputs": [],
   "source": [
    "import io\n",
    "import contextlib\n",
    "import matplotlib.pyplot as plt\n",
    "\n",
    "# Function to suppress print statements\n",
    "def suppress_print(func, *args, **kwargs):\n",
    "    with io.StringIO() as buf, contextlib.redirect_stdout(buf):\n",
    "        return func(*args, **kwargs)\n",
    "    \n",
    "res = []\n",
    "\n",
    "for i in range(1,14):\n",
    "    res.append(suppress_print(genRulesVectors, i))"
   ]
  },
  {
   "cell_type": "code",
   "execution_count": 77,
   "metadata": {},
   "outputs": [
    {
     "data": {
      "image/png": "[encoded data removed]",
      "text/plain": [
       "<Figure size 1000x500 with 1 Axes>"
      ]
     },
     "metadata": {},
     "output_type": "display_data"
    }
   ],
   "source": [
    "indices = list(range(1,14))\n",
    "\n",
    "plt.figure(figsize=(10, 5))\n",
    "plt.plot(indices, res, marker='*', linestyle='-', color='b')\n",
    "plt.xlabel('n')\n",
    "plt.ylabel('Number of MaximalLengthCA')\n",
    "\n",
    "for i, value in enumerate(res):\n",
    "    plt.text(indices[i], value, str(value), fontsize=12, ha='right', va='bottom')\n",
    "plt.grid(True)\n",
    "plt.show()"
   ]
  },
  {
   "cell_type": "markdown",
   "metadata": {},
   "source": [
    "A rule R : $ (0, 1)^3 → (0, 1) $ is linear if R(x, y, z) = ax + dy + bz (mod 2) for some constants a, d, b ∈ {0, 1}. Following this definition, rule 90 and 150 are linear and can be expressed as $(x+z) mod 2$ and $(x+y+z) mod 2$ respectively. The linear rules can be characterised by matrix algebra. We can define a matrix T, which is a tridiagonal matrix where the main,\n",
    "upper and lower diagonal can only be non zero."
   ]
  },
  {
   "cell_type": "code",
   "execution_count": 3,
   "metadata": {},
   "outputs": [],
   "source": [
    "import numpy as np\n",
    "def Tmatrix(rule_vec):\n",
    "    n = len(rule_vec)\n",
    "    square_array = np.zeros((n, n))\n",
    "\n",
    "    for i in range(1,n):\n",
    "        square_array[i][i-1] = 1\n",
    "        square_array[i-1][i] = 1\n",
    "    for i in range(n):\n",
    "        square_array[i][i] = (rule_vec[i] - 90)//60    # 0 for rule 90 and 1 for rule 150 \n",
    "\n",
    "    return square_array.astype(int)\n"
   ]
  },
  {
   "cell_type": "code",
   "execution_count": 4,
   "metadata": {},
   "outputs": [
    {
     "data": {
      "text/plain": [
       "array([[0, 1, 0, 0],\n",
       "       [1, 0, 1, 0],\n",
       "       [0, 1, 1, 1],\n",
       "       [0, 0, 1, 0]])"
      ]
     },
     "execution_count": 4,
     "metadata": {},
     "output_type": "execute_result"
    }
   ],
   "source": [
    "Tmatrix([90,90,150,90])"
   ]
  },
  {
   "cell_type": "markdown",
   "metadata": {},
   "source": [
    "# Characteristics Polynomials for 90-150 CAs\n",
    "\n",
    "The following code generate the characteristics polynomial for 90-150 CAs. It is based on the recurrence relation,\n",
    "\n",
    "$Δ_-1 = 1$\n",
    "\n",
    "$Δ_0 = (x + d_0)$\n",
    "\n",
    "$Δ_1 = (x + d_1)Δ_0 + Δ_-1$\n",
    "\n",
    ".\n",
    ".\n",
    ".\n",
    "\n",
    "$Δ_k = (x + d_k)Δ_{k−1} + Δ_{k−2}$\n",
    "\n",
    ".\n",
    ".\n",
    ".\n",
    "\n",
    "$Δ = Δ_{n−1} = (x + d_{n−1})Δ_{n−2} + Δ_{n−3}$\n",
    "\n",
    "The coefficient d is the main diagonal elements of the characterization matrix $[T]_{n×n}$. It is 0 for a cell following rule 90 and 1 for a cell following rule 150.\n",
    "\n",
    "The polynomial can be of three types: Reducible, Irreducible and Primitive\n",
    "\n",
    "\n",
    "\n",
    "\n",
    "\n"
   ]
  },
  {
   "cell_type": "code",
   "execution_count": 174,
   "metadata": {},
   "outputs": [],
   "source": [
    "from sympy import symbols,expand, GF, Poly\n",
    "\n",
    "# input rule_vec as a binary array where 0 is for index following rule 90 and 1 for index following rule 150\n",
    "\n",
    "def GenerateCharacteristicsPoly(rule_vec):\n",
    "\n",
    "    x = symbols('x')\n",
    "    n = len(rule_vec)\n",
    "\n",
    "    # helper function for polynomial over GF(2)\n",
    "    convert_to_gf2 = lambda poly: sum(coeff * symbols('x')**i for i, coeff in enumerate(reversed(Poly(poly, symbols('x')).set_domain('GF(2)').all_coeffs())))\n",
    "\n",
    "    p_array = [1, x + rule_vec[0]]\n",
    "\n",
    "    for i in range(2,n+1):\n",
    "        curr = expand((x+rule_vec[i-1])*p_array[-1])\n",
    "        p_array.append(convert_to_gf2(curr + p_array[-2]))\n",
    "\n",
    "    for i in p_array:\n",
    "        print(i)\n",
    "\n",
    "    return p_array[-1]"
   ]
  },
  {
   "cell_type": "code",
   "execution_count": 175,
   "metadata": {},
   "outputs": [
    {
     "name": "stdout",
     "output_type": "stream",
     "text": [
      "1\n",
      "x\n",
      "x**2 + x + 1\n",
      "x**3 + x**2\n",
      "x**4 + x**3 + x**2 + x + 1\n"
     ]
    },
    {
     "data": {
      "text/latex": [
       "$\\displaystyle x^{4} + x^{3} + x^{2} + x + 1$"
      ],
      "text/plain": [
       "x**4 + x**3 + x**2 + x + 1"
      ]
     },
     "execution_count": 175,
     "metadata": {},
     "output_type": "execute_result"
    }
   ],
   "source": [
    "GenerateCharacteristicsPoly([0,1,0,0])"
   ]
  },
  {
   "cell_type": "markdown",
   "metadata": {},
   "source": [
    "In those three types, only the the primitive polynomials belongs to maximal length CA. The following code define a function that takes rule-vectors in form of binary array as input and return the validation that if the characteristics polynomial is primitive or not. A  polynomial over $GF(2)$ of degree $n$ is primitive if it is irreducible and can divide a polynomial $x^m + 1$ where m is 1 less than tha square of the degree, $D$ of the polynomial i.e, $m = D^2-1$ \n",
    "\n",
    "A polynomial over $GF(2)$, in layman terms, is a polynomial with coefficients as $1$ for all the terms. \n",
    "\n",
    "A nonzero polynomial $P(x)$ over $GF(q)$ is said to be irreducible if it\n",
    "cannot be factored into two non-constant polynomials $G(x)$ and $H(x)$ over the same\n",
    "field, that is, $P(x) \\neq G(x) × H(x)$; otherwise, it is reducible."
   ]
  },
  {
   "cell_type": "code",
   "execution_count": 186,
   "metadata": {},
   "outputs": [],
   "source": [
    "from sympy import symbols, GF, Poly\n",
    "\n",
    "def checkPrimitive(rule_vec):\n",
    "    \n",
    "    x = symbols('x')\n",
    "    poly = suppress_print(GenerateCharacteristicsPoly,rule_vec)\n",
    "    print(poly)\n",
    "    poly = Poly(poly, x,modulus=2)\n",
    "    mod_poly = Poly(x**(poly.degree()**2-1)+1, x, modulus = 2)\n",
    "    return mod_poly % poly == 0\n"
   ]
  },
  {
   "cell_type": "code",
   "execution_count": 187,
   "metadata": {},
   "outputs": [
    {
     "name": "stdout",
     "output_type": "stream",
     "text": [
      "x**4 + x**3 + 1\n"
     ]
    },
    {
     "data": {
      "text/plain": [
       "True"
      ]
     },
     "execution_count": 187,
     "metadata": {},
     "output_type": "execute_result"
    }
   ],
   "source": [
    "checkPrimitive([1,1,0,1])"
   ]
  },
  {
   "cell_type": "markdown",
   "metadata": {},
   "source": [
    "We will see the irreducibility of characteristics polynomial determined by Rabin's Test. The below code use a framework 'galois' for checking the type of polynomial."
   ]
  },
  {
   "cell_type": "code",
   "execution_count": 54,
   "metadata": {},
   "outputs": [],
   "source": [
    "from sympy import symbols, Poly\n",
    "import galois, numpy\n",
    "\n",
    "def CharacteristicsPoly(rule_vec, p):\n",
    "    x = symbols('x')\n",
    "    n = len(rule_vec)\n",
    "    \n",
    "    # the coefficients d based on rule vector, 0 for 90 and 1 for 150\n",
    "    rule_vec = [int((i - 90) / 60) for i in rule_vec]\n",
    "\n",
    "    # Initialize the polynomial array with the first two polynomials\n",
    "    p_array = [1, [ 1 , rule_vec[0]]]\n",
    "\n",
    "    # Apply the recurrence relation to find the characteristic polynomial\n",
    "    for i in range(2, n + 1):\n",
    "        curr = numpy.polymul([1 , rule_vec[i - 1]],p_array[-1])\n",
    "        p_array.append(numpy.polyadd(curr,p_array[-2]) % p)              # operations in GF(2)\n",
    "\n",
    "    char_poly = Poly(p_array[-1],x)\n",
    "    print('The characteristic polynomial is', char_poly)\n",
    "\n",
    "    GF = galois.GF(p)\n",
    "    poly = galois.Poly(p_array[-1], field=GF)\n",
    "\n",
    "    # Use galois methods to check the type of characteristic polynomials\n",
    "    if poly.is_primitive():\n",
    "        return 'primitive, thus rule vector produce MLCA'\n",
    "    elif poly.is_irreducible():\n",
    "        return 'irreducible and thus not MLCA'\n",
    "    else:\n",
    "        return 'reducible and thus not MLCA'"
   ]
  },
  {
   "cell_type": "code",
   "execution_count": 57,
   "metadata": {},
   "outputs": [
    {
     "name": "stdout",
     "output_type": "stream",
     "text": [
      "The characteristic polynomial is Poly(x**4 + 3*x**3 + x**2 + x + 3, x, domain='ZZ')\n",
      "reducible and thus not MLCA\n",
      "The characteristic polynomial is Poly(x**5 + 3*x**4 + 2*x**3 + 3*x**2 + x + 1, x, domain='ZZ')\n",
      "irreducible and thus not MLCA\n"
     ]
    }
   ],
   "source": [
    "print(CharacteristicsPoly([150,150,90,150],5))\n",
    "\n",
    "print(CharacteristicsPoly([150,150,90,150,90],5))"
   ]
  },
  {
   "cell_type": "markdown",
   "metadata": {},
   "source": [
    "Given a matrix, the following code calculates the characteristics polynomial."
   ]
  },
  {
   "cell_type": "code",
   "execution_count": null,
   "metadata": {},
   "outputs": [
    {
     "name": "stdout",
     "output_type": "stream",
     "text": [
      "Characteristic polynomial: x**3 + 3*x**2 - 3\n"
     ]
    }
   ],
   "source": [
    "\n",
    "\n",
    "import sympy as sp\n",
    "\n",
    "def characteristic_polynomial(matrix):\n",
    "    x = sp.symbols('x')\n",
    "    identity_matrix = sp.eye(matrix.shape[0])\n",
    "    characteristic_poly = sp.det(matrix + x * identity_matrix)\n",
    "    return sp.simplify(characteristic_poly)\n",
    "\n",
    "# Example usage\n",
    "A = sp.Matrix([[2, 0, 1],\n",
    "               [0, 1, 1],\n",
    "               [1, 1, 0]])\n",
    "\n",
    "char_poly = characteristic_polynomial(A)\n",
    "print(\"Characteristic polynomial:\", char_poly)\n"
   ]
  },
  {
   "cell_type": "markdown",
   "metadata": {},
   "source": [
    "# Rabin's Irreducibility Test "
   ]
  },
  {
   "cell_type": "code",
   "execution_count": null,
   "metadata": {},
   "outputs": [
    {
     "name": "stdout",
     "output_type": "stream",
     "text": [
      "f is irreducible\n"
     ]
    }
   ],
   "source": [
    "from sympy import symbols, gcd, Poly, GF  # import mod,div if needed\n",
    "from sympy.ntheory.factor_ import factorint\n",
    "\n",
    "def irreducibility_test(f, q):\n",
    "    x = symbols('x')\n",
    "    n = f.degree()\n",
    "    # Find all distinct prime divisors of n\n",
    "    prime_divisors = list(factorint(n).keys())\n",
    "    \n",
    "    for p in prime_divisors:\n",
    "        n_j = n // p\n",
    "        h = x**(q**n_j) - x\n",
    "        h_mod_f = Poly(h, x, domain=f.domain).rem(f)\n",
    "        g = gcd(f, h_mod_f)\n",
    "        if g != 1:\n",
    "            return \"f is reducible\"\n",
    "    \n",
    "    g = x**(q**n) - x\n",
    "    g_mod_f = Poly(g, x, domain=f.domain).rem(f)\n",
    "    if g_mod_f == 0:\n",
    "        return \"f is irreducible\"\n",
    "    else:\n",
    "        return \"f is reducible\"\n",
    "\n",
    "# Example usage\n",
    "# Define the polynomial ring over a finite field (example: F_5[x])\n",
    "Fq = GF(5)\n",
    "\n",
    "# Define the polynomial f in F_5[x]\n",
    "x = symbols('x')\n",
    "f = Poly(x**3 + 2*x**2 + x + 4, x, domain=Fq)\n",
    "\n",
    "# Define the degree of the polynomial\n",
    "n = f.degree()\n",
    "\n",
    "# Compute the irreducibility test\n",
    "result = irreducibility_test(f, Fq.characteristic())\n",
    "print(result)\n"
   ]
  },
  {
   "attachments": {
    "image.png": {
     "image/png": "[encoded data removed]"
    }
   },
   "cell_type": "markdown",
   "metadata": {},
   "source": [
    "Generating Matrix from Linear Rules vector. The linear rules are:\n",
    "\n",
    "![image.png](attachment:image.png)"
   ]
  },
  {
   "cell_type": "code",
   "execution_count": 3,
   "metadata": {},
   "outputs": [],
   "source": [
    "import numpy as np\n",
    "import sympy as sp\n",
    "\n",
    "def GenMatrix(rule_vec):\n",
    "    n = len(rule_vec)\n",
    "    mat = np.zeros((n, n), dtype=int)\n",
    "    x = sp.symbols('x')\n",
    "    I = sp.eye(n)\n",
    "\n",
    "    class Linear_Rule:\n",
    "        def attonator(self, rule, mat, k):\n",
    "            return getattr(self, 'ret' + str(rule), self.default)(mat, k)\n",
    "\n",
    "        def default(self, mat, k):\n",
    "            pass\n",
    "\n",
    "        def ret0(self, mat, k):\n",
    "            mat[k][(k-1)%n] = 0\n",
    "            mat[k][k] = 0\n",
    "            mat[k][(k+1)%n] = 0\n",
    "\n",
    "        def ret60(self, mat, k):\n",
    "            mat[k][(k-1)%n] = 1\n",
    "            mat[k][k] = 0\n",
    "            mat[k][(k+1)%n] = 0\n",
    "\n",
    "        def ret90(self, mat, k):\n",
    "            mat[k][(k-1)%n] = 1\n",
    "            mat[k][k] = 0\n",
    "            mat[k][(k+1)%n] = 1\n",
    "\n",
    "        def ret102(self, mat, k):\n",
    "            mat[k][(k-1)%n] = 0\n",
    "            mat[k][k] = 1\n",
    "            mat[k][(k+1)%n] = 1\n",
    "        \n",
    "        def ret150(self, mat, k):\n",
    "            mat[k][(k-1)%n] = 1\n",
    "            mat[k][k] = 1\n",
    "            mat[k][(k+1)%n] = 1\n",
    "\n",
    "        def ret170(self, mat, k):\n",
    "            mat[k][(k-1)%n] = 0\n",
    "            mat[k][k] = 0\n",
    "            mat[k][(k+1)%n] = 1\n",
    "\n",
    "        def ret204(self, mat, k):\n",
    "            mat[k][(k-1)%n] = 0\n",
    "            mat[k][k] = 1\n",
    "            mat[k][(k+1)%n] = 0\n",
    "\n",
    "        def ret240(self, mat, k):\n",
    "            mat[k][(k-1)%n] = 1\n",
    "            mat[k][k] = 0\n",
    "            mat[k][(k+1)%n] = 0\n",
    "\n",
    "    my_switch = Linear_Rule()\n",
    "\n",
    "    for i in range(n):\n",
    "        my_switch.attonator(rule_vec[i], mat, i)\n",
    "\n",
    "    mat[0][-1] = 0      # remove both line for periodic condition\n",
    "    mat[-1][0] = 0\n",
    "\n",
    "    T_minus_lambda_I = mat - x * I\n",
    "\n",
    "    print(mat)\n",
    "    \n",
    "    return (sp.expand(sp.det(T_minus_lambda_I)))\n",
    "\n",
    "    return mat\n"
   ]
  },
  {
   "cell_type": "code",
   "execution_count": 4,
   "metadata": {},
   "outputs": [
    {
     "name": "stdout",
     "output_type": "stream",
     "text": [
      "[[0 1 0 0 0 0 0]\n",
      " [1 1 1 0 0 0 0]\n",
      " [0 1 1 1 0 0 0]\n",
      " [0 0 1 1 1 0 0]\n",
      " [0 0 0 1 0 1 0]\n",
      " [0 0 0 0 1 1 1]\n",
      " [0 0 0 0 0 1 1]]\n"
     ]
    },
    {
     "data": {
      "text/latex": [
       "$\\displaystyle - x^{7} + 5 x^{6} - 4 x^{5} - 11 x^{4} + 12 x^{3} + 6 x^{2} - 5 x$"
      ],
      "text/plain": [
       "-x**7 + 5*x**6 - 4*x**5 - 11*x**4 + 12*x**3 + 6*x**2 - 5*x"
      ]
     },
     "execution_count": 4,
     "metadata": {},
     "output_type": "execute_result"
    }
   ],
   "source": [
    "GenMatrix([90,150,150,150,90,150,150])"
   ]
  },
  {
   "cell_type": "markdown",
   "metadata": {},
   "source": [
    "The polynomial generated by a 90-150 rule vector is same as the polynomial generated by the reverse of the very rule vector. No other hybrid rule vector show this. "
   ]
  },
  {
   "cell_type": "code",
   "execution_count": null,
   "metadata": {},
   "outputs": [],
   "source": [
    "import numpy\n",
    "from sympy import Poly, symbols, GF\n",
    "\n",
    "def test1(rule_vec):\n",
    "\n",
    "    def test(rule_vec1):\n",
    "\n",
    "        x = symbols('x')\n",
    "        \n",
    "        rule_vec = [int(i) for i in rule_vec1]\n",
    "\n",
    "        n = len(rule_vec)\n",
    "\n",
    "        # Initialize the polynomial array with the first two polynomials\n",
    "        p_array = [1, [ 1 , rule_vec[0]]]\n",
    "\n",
    "        # Apply the recurrence relation to find the characteristic polynomial\n",
    "        for i in range(2, n + 1):\n",
    "            curr = numpy.polymul([1 , rule_vec[i - 1]],p_array[-1])\n",
    "            p_array.append(numpy.polyadd(curr,p_array[-2]) % 2)              # operations in GF(2)\n",
    "\n",
    "        return Poly(p_array[-1],x)\n",
    "    \n",
    "    \n",
    "        \n",
    "    return test(rule_vec)==test(rule_vec[::-1])\n",
    "\n",
    "n = 18          # checked for all the cellular automata of length 1 to 17\n",
    "\n",
    "for k in range(1,n):\n",
    "\n",
    "    rules_vectors = [bin(i)[2:].zfill(k) for i in range(2**k) if bin(i)[2:].zfill(k) != bin(i)[2:].zfill(k)[::-1]]   # generate all the cellular automata\n",
    "\n",
    "    for i in rules_vectors:\n",
    "        if test1(i)==False:\n",
    "            print('failed')\n",
    "\n",
    "# As we see, no 'failed' is printed, thus the hypothesis is true\n",
    "\n",
    "# the runtime of this code is 4 minutes\n"
   ]
  },
  {
   "cell_type": "markdown",
   "metadata": {},
   "source": [
    "We will try to write quantum circuit for Rule 90 and Rule 150. \n",
    "\n",
    "Rule 150 works on x⊕y⊕z mod 2. \n",
    "\n",
    "Rule 90 works on x⊕z mod 2 which is equal to x⊕y⊕z⊕y mod 2"
   ]
  },
  {
   "cell_type": "code",
   "execution_count": 1,
   "metadata": {},
   "outputs": [
    {
     "name": "stdout",
     "output_type": "stream",
     "text": [
      "[0 0 0]\n",
      "[0 1 1]\n",
      "[0 1 0]\n",
      "[0 0 1]\n",
      "[1 1 1]\n",
      "[1 0 0]\n",
      "[1 0 1]\n",
      "[1 1 0]\n"
     ]
    }
   ],
   "source": [
    "import pennylane as qml\n",
    "from pennylane import numpy as np\n",
    "\n",
    "\n",
    "# Define the device with 1024 shots\n",
    "dev = qml.device('default.qubit', wires=3, shots=1)\n",
    "\n",
    "# Define the quantum circuit\n",
    "@qml.qnode(dev)\n",
    "def Rule_150(arr):\n",
    "    if arr[0] == '1':\n",
    "     \n",
    "        qml.PauliX(wires=0)\n",
    "    if arr[1] == '1':\n",
    "        qml.PauliX(wires=1)\n",
    "    if arr[2] == '1':\n",
    "        qml.PauliX(wires=2)  # Initialize qubit 0 to |1>\n",
    "    qml.CNOT(wires=[0, 2]) \n",
    "    qml.CNOT(wires=[2, 1])  # Apply the CNOT gate\n",
    "    return qml.sample(wires=[0, 1, 2])  # Return the probabilities of the states\n",
    "\n",
    "@qml.qnode(dev)\n",
    "def Rule_90(arr):\n",
    "    if arr[0] == '1':\n",
    "        qml.PauliX(wires=0)\n",
    "    if arr[1] == '1':\n",
    "        qml.PauliX(wires=1)\n",
    "        qml.PauliX(wires=3)\n",
    "    if arr[2] == '1':\n",
    "        qml.PauliX(wires=2)  # Initialize qubit 0 to |1>\n",
    "    qml.CNOT(wires=[0, 1]) \n",
    "    qml.CNOT(wires=[2, 1])  # Apply the CNOT gate\n",
    "    qml.CNOT(wires=[3, 1])\n",
    "    return qml.sample(wires=[0, 1, 2, 3])  # Return the probabilities of the states\n",
    "\n",
    "\n",
    "for i in [format(i, f'0{3}b') for i in range(2**3)]:\n",
    "\n",
    "# Run the circuit and get the result\n",
    "    print(Rule_150(i))\n",
    "\n",
    "\n"
   ]
  },
  {
   "cell_type": "code",
   "execution_count": null,
   "metadata": {},
   "outputs": [],
   "source": []
  }
 ],
 "metadata": {
  "kernelspec": {
   "display_name": ".venv",
   "language": "python",
   "name": "python3"
  },
  "language_info": {
   "codemirror_mode": {
    "name": "ipython",
    "version": 3
   },
   "file_extension": ".py",
   "mimetype": "text/x-python",
   "name": "python",
   "nbconvert_exporter": "python",
   "pygments_lexer": "ipython3",
   "version": "3.11.9"
  }
 },
 "nbformat": 4,
 "nbformat_minor": 2
}
