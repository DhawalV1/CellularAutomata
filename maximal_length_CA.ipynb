{
 "cells": [
  {
   "cell_type": "markdown",
   "metadata": {},
   "source": [
    "# Deciding Maximality\n",
    "\n",
    "Non-uniform (hybrid) finite cellular automata (CAs) under null boundary condition\n",
    "share a very special property which the classical finite CAs or the non-uniform finite\n",
    "CAs under periodic boundary condition do not. This property is the maximality in\n",
    "cycle length, which means, the presence of a cycle of length $2^n − 1$ in an n-cell binary\n",
    "automaton. This property was first observed by Pries et. al. The maximal length\n",
    "CAs are reversible CAs.\n",
    "\n",
    "*A finite CA is a maximal length CA if all but one configuration of it\n",
    "are in a single cycle.*\n",
    "\n",
    "Hybrid rule vectors consisting of only rules 90 and 150 produces maximal length CA. This is a very generic algorithm to determine maximality, which takes exponential runtime. This is based upon [Exhaustive Search] and a experimental approach."
   ]
  },
  {
   "cell_type": "code",
   "execution_count": 73,
   "metadata": {},
   "outputs": [],
   "source": [
    "generate_binary_strings = lambda n: [format(i, f'0{n}b') for i in range(2**n)]\n",
    "\n",
    "def decideMaximality(n_input,index_set):\n",
    "    \n",
    "    # the index_set takes the rule vector by only including the index of cells following rule 90\n",
    "    # for example index_set = {0,2,4} means [90,150,90,150,90], index_set = {1,3,4} means [150,90,150,90,90]\n",
    "\n",
    "    rule_90 = {}\n",
    "    rule_150  = {}\n",
    "    r_90 = f'{90:0{8}b}'\n",
    "    r_150 = f'{150:0{8}b}'\n",
    "    for i,key in enumerate(generate_binary_strings(3)[::-1]):\n",
    "        rule_90[key] = r_90[i]\n",
    "        rule_150[key] = r_150[i]\n",
    "    \n",
    "\n",
    "    current = f'{1:0{n_input}b}'             #started with ...00001\n",
    "\n",
    "    rule_vector = [90 if i in index_set else 150 for i in range(n_input)]\n",
    "\n",
    "    print(\"The rule vector is\",rule_vector,\"and the cell length is\",n_input)\n",
    "    \n",
    "    have = current\n",
    "    new = '0'*(n_input+1)\n",
    "    periodicity = 0\n",
    "    store = {}\n",
    "    while have!=new:\n",
    "        \n",
    "        exec = '0' + current + '0'\n",
    "        new = ''\n",
    "        for i in range(len(exec)-2):\n",
    "            if i in index_set:\n",
    "                new += rule_90[exec[i:i+3]]\n",
    "            if i not in index_set:\n",
    "                new += rule_150[exec[i:i+3]]\n",
    "        if new in store:\n",
    "            \n",
    "            if new!=f'{1:0{n_input}b}':\n",
    "                return 'not cyclic thus not maximal'\n",
    "                \n",
    "        current = new\n",
    "        store[new] = periodicity\n",
    "        periodicity += 1\n",
    "    else:\n",
    "        if periodicity == 2**n_input-1:\n",
    "            for key in store.keys():\n",
    "                print(key)\n",
    "            print(\"periodicity is\",periodicity)\n",
    "            return \"maximal-length CA\"\n",
    "        else:\n",
    "            return \"Not a maximal_length CA\"\n",
    "\n"
   ]
  },
  {
   "cell_type": "code",
   "execution_count": 74,
   "metadata": {},
   "outputs": [
    {
     "name": "stdout",
     "output_type": "stream",
     "text": [
      "The rule vector is [90, 150, 90, 90] and the cell length is 4\n"
     ]
    },
    {
     "data": {
      "text/plain": [
       "'Not a maximal_length CA'"
      ]
     },
     "execution_count": 74,
     "metadata": {},
     "output_type": "execute_result"
    }
   ],
   "source": [
    "decideMaximality(4,{0,2,3})"
   ]
  },
  {
   "cell_type": "code",
   "execution_count": 75,
   "metadata": {},
   "outputs": [
    {
     "name": "stdout",
     "output_type": "stream",
     "text": [
      "The rule vector is [150, 150, 90, 150] and the cell length is 4\n",
      "0011\n",
      "0110\n",
      "1011\n",
      "1010\n",
      "1001\n",
      "1111\n",
      "0100\n",
      "1110\n",
      "0111\n",
      "1000\n",
      "1100\n",
      "0010\n",
      "0101\n",
      "1101\n",
      "0001\n",
      "periodicity is 15\n"
     ]
    },
    {
     "data": {
      "text/plain": [
       "'maximal-length CA'"
      ]
     },
     "execution_count": 75,
     "metadata": {},
     "output_type": "execute_result"
    }
   ],
   "source": [
    "decideMaximality(4,{2})"
   ]
  },
  {
   "cell_type": "code",
   "execution_count": 76,
   "metadata": {},
   "outputs": [
    {
     "name": "stdout",
     "output_type": "stream",
     "text": [
      "The rule vector is [150, 150, 90, 90] and the cell length is 4\n"
     ]
    },
    {
     "data": {
      "text/plain": [
       "'not cyclic thus not maximal'"
      ]
     },
     "execution_count": 76,
     "metadata": {},
     "output_type": "execute_result"
    }
   ],
   "source": [
    "decideMaximality(4,{2,3})"
   ]
  },
  {
   "cell_type": "code",
   "execution_count": null,
   "metadata": {},
   "outputs": [],
   "source": []
  }
 ],
 "metadata": {
  "kernelspec": {
   "display_name": ".venv",
   "language": "python",
   "name": "python3"
  },
  "language_info": {
   "codemirror_mode": {
    "name": "ipython",
    "version": 3
   },
   "file_extension": ".py",
   "mimetype": "text/x-python",
   "name": "python",
   "nbconvert_exporter": "python",
   "pygments_lexer": "ipython3",
   "version": "3.11.9"
  }
 },
 "nbformat": 4,
 "nbformat_minor": 2
}
