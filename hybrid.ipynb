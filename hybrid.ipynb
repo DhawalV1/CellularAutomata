{
 "cells": [
  {
   "cell_type": "markdown",
   "metadata": {},
   "source": [
    "# Hybrid Cellular Automaton ( Two rules )"
   ]
  },
  {
   "cell_type": "markdown",
   "metadata": {},
   "source": [
    "In the following code, rule vectors are added as rule_1 and rule_2 parameter. \n",
    "\n",
    "Type 1  When the cells are partitioned into set randomly for each rule\n",
    "\n",
    "Type 2  When the cells are applied by each of the two rules alternatively"
   ]
  },
  {
   "cell_type": "code",
   "execution_count": 39,
   "metadata": {},
   "outputs": [],
   "source": [
    "import random\n",
    "\n",
    "#This lambda function create an arbitrary binary strings of length n\n",
    "\n",
    "random_binary_string = lambda n: ''.join(random.choice('01') for _ in range(n)) \n",
    "\n",
    "# this lambda function is a helper function that convert the rule number in binary format of 8 characters\n",
    "binary_r = lambda r: format(r, f'0{8}b')\n",
    "\n",
    "def hybridCA(rule_1,rule_2,time,n_length,type):\n",
    "    automata_rule_1 = {}\n",
    "    automata_rule_2 = {}\n",
    "    r_1 = binary_r(rule_1)\n",
    "    r_2 = binary_r(rule_2)\n",
    "    container_bin = [format(i, f'0{3}b') for i in range(2**3)][::-1]    # output:['111', '110', '101', '100', '011', '010', '001', '000']\n",
    "    for i,key in enumerate(container_bin):\n",
    "        automata_rule_1[key] = r_1[i]\n",
    "        automata_rule_2[key] = r_2[i]\n",
    "    \n",
    "    random_index = set(random.sample(range(0, n_length), n_length//2))   # partition the indices into types for each rule randomly\n",
    "    current = random_binary_string(n_length)\n",
    "    print(current)\n",
    "    while time>0:\n",
    "        \n",
    "        exec = '0' + current + '0'\n",
    "        new = ''\n",
    "        if type == 1:                                                     # type 1 when the index are randomly partitioned for each rule\n",
    "            for i in range(len(current)):                            \n",
    "                if i in random_index:\n",
    "                    new += automata_rule_1[exec[i:i+3]]                   # this piece of code ensure the hybrid nature of automaton                                \n",
    "                else:                                                     # rule_1 acts on half of the index, rule_2 acts on other half\n",
    "                    new += automata_rule_2[exec[i:i+3]] \n",
    "        if type == 2:                                                     # type 2 when the rules act on alternative indices\n",
    "            for i in range(len(current)):                        \n",
    "                if i%2:\n",
    "                    new += automata_rule_1[exec[i:i+3]]    \n",
    "                else:           \n",
    "                    new += automata_rule_2[exec[i:i+3]] \n",
    "\n",
    "        current = new\n",
    "        time -= 1\n",
    "        print(current)\n",
    "    "
   ]
  },
  {
   "cell_type": "code",
   "execution_count": 40,
   "metadata": {},
   "outputs": [
    {
     "name": "stdout",
     "output_type": "stream",
     "text": [
      "01001\n",
      "00101\n",
      "00111\n",
      "00100\n",
      "00110\n",
      "00111\n",
      "00100\n",
      "00110\n",
      "00111\n",
      "00100\n",
      "00110\n"
     ]
    }
   ],
   "source": [
    "type = 1       # random partition of cells\n",
    "# rule_1 = 30 ; rule_2 = 120 ; timestamp = 10 ; latticeLength = 5 ; \n",
    "hybridCA(30,120,10,5,type)"
   ]
  },
  {
   "cell_type": "code",
   "execution_count": 41,
   "metadata": {},
   "outputs": [
    {
     "name": "stdout",
     "output_type": "stream",
     "text": [
      "01011\n",
      "11011\n",
      "10011\n",
      "01111\n",
      "11001\n",
      "10110\n",
      "00101\n",
      "01000\n",
      "11100\n",
      "10110\n",
      "00101\n"
     ]
    }
   ],
   "source": [
    "type = 2     # alternative partition of cells\n",
    "# rule_1 = 30 ; rule_2 = 90 ; timestamp = 10 ; latticeLength = 5 ; \n",
    "hybridCA(30,90,10,5,type)"
   ]
  },
  {
   "cell_type": "code",
   "execution_count": null,
   "metadata": {},
   "outputs": [],
   "source": []
  }
 ],
 "metadata": {
  "kernelspec": {
   "display_name": ".venv",
   "language": "python",
   "name": "python3"
  },
  "language_info": {
   "codemirror_mode": {
    "name": "ipython",
    "version": 3
   },
   "file_extension": ".py",
   "mimetype": "text/x-python",
   "name": "python",
   "nbconvert_exporter": "python",
   "pygments_lexer": "ipython3",
   "version": "3.11.9"
  }
 },
 "nbformat": 4,
 "nbformat_minor": 2
}
