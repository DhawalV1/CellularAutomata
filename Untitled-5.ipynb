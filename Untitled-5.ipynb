{
 "cells": [
  {
   "cell_type": "code",
   "execution_count": 1,
   "metadata": {},
   "outputs": [],
   "source": [
    "from classiq import *"
   ]
  },
  {
   "cell_type": "markdown",
   "metadata": {},
   "source": [
    "The following is report on the optimization of an MCX circuit with 5 qubits control and 20 qubits control. The report consist of the code as well as the analysis of the result. Consider the report for the submission required for getting the Classiq Certificate. "
   ]
  },
  {
   "cell_type": "markdown",
   "metadata": {},
   "source": [
    "# Part A ( 5 qubits controlled MCX circuit)"
   ]
  },
  {
   "cell_type": "code",
   "execution_count": 3,
   "metadata": {},
   "outputs": [],
   "source": [
    "@qfunc\n",
    "def main(cntrl: Output[QArray[QBit]], target: Output[QBit]) -> None:\n",
    "    allocate(5, cntrl)\n",
    "    allocate(1, target)\n",
    "    control(ctrl=cntrl, operand=lambda: X(target))"
   ]
  },
  {
   "cell_type": "code",
   "execution_count": 4,
   "metadata": {},
   "outputs": [],
   "source": [
    "quantum_model5 = create_model(main)"
   ]
  },
  {
   "cell_type": "code",
   "execution_count": 5,
   "metadata": {},
   "outputs": [],
   "source": [
    "quantum_program5 = synthesize(quantum_model5)"
   ]
  },
  {
   "cell_type": "code",
   "execution_count": 6,
   "metadata": {},
   "outputs": [
    {
     "name": "stdout",
     "output_type": "stream",
     "text": [
      "The circuit width is 6 and the circuit_depth is 117\n"
     ]
    }
   ],
   "source": [
    "circuit_width = QuantumProgram.from_qprog(quantum_program5).data.width\n",
    "circuit_depth = QuantumProgram.from_qprog(quantum_program5).transpiled_circuit.depth\n",
    "print(f\"The circuit width is {circuit_width} and the circuit_depth is {circuit_depth}\")"
   ]
  },
  {
   "cell_type": "markdown",
   "metadata": {},
   "source": [
    "Now we will perform the three different optimization. First for the minimum depth, second for the minimum width and third for in between. "
   ]
  },
  {
   "cell_type": "code",
   "execution_count": 16,
   "metadata": {},
   "outputs": [],
   "source": [
    "#  For minimum depth\n",
    "\n",
    "quantum_model_with_min_depth5 = set_constraints(\n",
    "    quantum_model5, Constraints(optimization_parameter=\"depth\", max_width = 10))"
   ]
  },
  {
   "cell_type": "code",
   "execution_count": 17,
   "metadata": {},
   "outputs": [],
   "source": [
    "quantum_program_with_min_depth5 = synthesize(quantum_model_with_min_depth5)"
   ]
  },
  {
   "cell_type": "code",
   "execution_count": 18,
   "metadata": {},
   "outputs": [
    {
     "name": "stdout",
     "output_type": "stream",
     "text": [
      "The circuit width is 8 and the circuit_depth is 34\n"
     ]
    }
   ],
   "source": [
    "circuit_width = QuantumProgram.from_qprog(quantum_program_with_min_depth5).data.width\n",
    "circuit_depth = QuantumProgram.from_qprog(quantum_program_with_min_depth5).transpiled_circuit.depth\n",
    "print(f\"The circuit width is {circuit_width} and the circuit_depth is {circuit_depth}\")"
   ]
  },
  {
   "cell_type": "markdown",
   "metadata": {},
   "source": [
    "We can see, that minimal depth of thecircuit is 34, for casual width of 10 ( > than required 6 width)."
   ]
  },
  {
   "cell_type": "code",
   "execution_count": 25,
   "metadata": {},
   "outputs": [],
   "source": [
    "#  For minimum width\n",
    "\n",
    "quantum_model_with_min_width5 = set_constraints(\n",
    "    quantum_model5, Constraints(optimization_parameter=\"width\", max_depth = 80))"
   ]
  },
  {
   "cell_type": "code",
   "execution_count": 26,
   "metadata": {},
   "outputs": [],
   "source": [
    "quantum_program_with_min_width5 = synthesize(quantum_model_with_min_width5)"
   ]
  },
  {
   "cell_type": "code",
   "execution_count": 27,
   "metadata": {},
   "outputs": [
    {
     "name": "stdout",
     "output_type": "stream",
     "text": [
      "The circuit width is 7 and the circuit_depth is 51\n"
     ]
    }
   ],
   "source": [
    "circuit_width = QuantumProgram.from_qprog(quantum_program_with_min_width5).data.width\n",
    "circuit_depth = QuantumProgram.from_qprog(quantum_program_with_min_width5).transpiled_circuit.depth\n",
    "print(f\"The circuit width is {circuit_width} and the circuit_depth is {circuit_depth}\")"
   ]
  },
  {
   "cell_type": "markdown",
   "metadata": {},
   "source": [
    "We know the, minimum depth of the circuit is 6, and if we keep the max depth around 80, then we get width of 7 for a depth of 51."
   ]
  },
  {
   "cell_type": "code",
   "execution_count": 33,
   "metadata": {},
   "outputs": [],
   "source": [
    "#  For in between range of optimisation\n",
    "\n",
    "quantum_model_with_inbetween_opt5 = set_constraints(\n",
    "    quantum_model5, Constraints(optimization_parameter=\"width\", max_depth = 50))"
   ]
  },
  {
   "cell_type": "code",
   "execution_count": 34,
   "metadata": {},
   "outputs": [],
   "source": [
    "quantum_program_with_inbetween_opt5 = synthesize(quantum_model_with_inbetween_opt5)"
   ]
  },
  {
   "cell_type": "code",
   "execution_count": 35,
   "metadata": {},
   "outputs": [
    {
     "name": "stdout",
     "output_type": "stream",
     "text": [
      "The circuit width is 8 and the circuit_depth is 34\n"
     ]
    }
   ],
   "source": [
    "circuit_width = QuantumProgram.from_qprog(quantum_program_with_inbetween_opt5).data.width\n",
    "circuit_depth = QuantumProgram.from_qprog(quantum_program_with_inbetween_opt5).transpiled_circuit.depth\n",
    "print(f\"The circuit width is {circuit_width} and the circuit_depth is {circuit_depth}\")"
   ]
  },
  {
   "cell_type": "markdown",
   "metadata": {},
   "source": [
    "# Part B ( 20 qubits controlled MCX circuit)"
   ]
  },
  {
   "cell_type": "markdown",
   "metadata": {},
   "source": [
    "Now, we do the part B. We show the effect of optimixation on MCX circuit with 20 control qubits and one target qubit."
   ]
  },
  {
   "cell_type": "code",
   "execution_count": 36,
   "metadata": {},
   "outputs": [],
   "source": [
    "@qfunc\n",
    "def main(cntrl: Output[QArray[QBit]], target: Output[QBit]) -> None:\n",
    "    allocate(20, cntrl)\n",
    "    allocate(1, target)\n",
    "    control(ctrl=cntrl, operand=lambda: X(target))"
   ]
  },
  {
   "cell_type": "code",
   "execution_count": 37,
   "metadata": {},
   "outputs": [],
   "source": [
    "quantum_model = create_model(main)"
   ]
  },
  {
   "cell_type": "code",
   "execution_count": 38,
   "metadata": {},
   "outputs": [],
   "source": [
    "quantum_program = synthesize(quantum_model)"
   ]
  },
  {
   "cell_type": "code",
   "execution_count": 39,
   "metadata": {},
   "outputs": [
    {
     "name": "stdout",
     "output_type": "stream",
     "text": [
      "The circuit width is 22 and the circuit_depth is 1894\n"
     ]
    }
   ],
   "source": [
    "circuit_width = QuantumProgram.from_qprog(quantum_program).data.width\n",
    "circuit_depth = QuantumProgram.from_qprog(quantum_program).transpiled_circuit.depth\n",
    "print(f\"The circuit width is {circuit_width} and the circuit_depth is {circuit_depth}\")"
   ]
  },
  {
   "cell_type": "markdown",
   "metadata": {},
   "source": [
    "Now, we will apply the two optimization. First, with minimized depth and second with minimized width. "
   ]
  },
  {
   "cell_type": "code",
   "execution_count": 40,
   "metadata": {},
   "outputs": [],
   "source": [
    "quantum_model_with_min_depth = set_constraints(\n",
    "    quantum_model, Constraints(optimization_parameter=\"depth\", max_width = 34))\n"
   ]
  },
  {
   "cell_type": "code",
   "execution_count": 41,
   "metadata": {},
   "outputs": [],
   "source": [
    "quantum_program_with_min_depth= synthesize(quantum_model_with_min_depth)"
   ]
  },
  {
   "cell_type": "code",
   "execution_count": 42,
   "metadata": {},
   "outputs": [
    {
     "name": "stdout",
     "output_type": "stream",
     "text": [
      "The circuit width is 30 and the circuit_depth is 66\n"
     ]
    }
   ],
   "source": [
    "circuit_width = QuantumProgram.from_qprog(quantum_program_with_min_depth).data.width\n",
    "circuit_depth = QuantumProgram.from_qprog(quantum_program_with_min_depth).transpiled_circuit.depth\n",
    "print(f\"The circuit width is {circuit_width} and the circuit_depth is {circuit_depth}\")"
   ]
  },
  {
   "cell_type": "code",
   "execution_count": 43,
   "metadata": {},
   "outputs": [],
   "source": [
    "quantum_model_with_min_width = set_constraints(\n",
    "    quantum_model, Constraints(optimization_parameter=\"width\",max_depth=700))"
   ]
  },
  {
   "cell_type": "code",
   "execution_count": 44,
   "metadata": {},
   "outputs": [],
   "source": [
    "quantum_program_with_min_width= synthesize(quantum_model_with_min_width)"
   ]
  },
  {
   "cell_type": "code",
   "execution_count": 45,
   "metadata": {},
   "outputs": [
    {
     "name": "stdout",
     "output_type": "stream",
     "text": [
      "The circuit width is 26 and the circuit_depth is 471\n"
     ]
    }
   ],
   "source": [
    "circuit_width = QuantumProgram.from_qprog(quantum_program_with_min_width).data.width\n",
    "circuit_depth = QuantumProgram.from_qprog(quantum_program_with_min_width).transpiled_circuit.depth\n",
    "print(f\"The circuit width is {circuit_width} and the circuit_depth is {circuit_depth}\")"
   ]
  },
  {
   "cell_type": "markdown",
   "metadata": {},
   "source": [
    "We can see, the unoptimized circuit comprise of width 22 and depth 1894. if we perform optimization with minimum depth, then width is 30 and depth is 66. If we perform the optimisation with minimum width, giving a value of max depth of 700, then we can optimized circuit for width 26 and depth 471. "
   ]
  },
  {
   "cell_type": "code",
   "execution_count": 11,
   "metadata": {},
   "outputs": [
    {
     "name": "stdout",
     "output_type": "stream",
     "text": [
      "0:00:01.807606\n",
      "0:00:01.686286\n"
     ]
    }
   ],
   "source": [
    "import math\n",
    "from datetime import datetime\n",
    "\n",
    "a, b = 11, 33\n",
    "\n",
    "then = datetime.now()\n",
    "for _ in range(10000000):\n",
    "    y = a * math.log(b)\n",
    "print(datetime.now() - then)\n",
    "\n",
    "then = datetime.now()\n",
    "for _ in range(10000000):\n",
    "    y = b**a\n",
    "print(datetime.now() - then)"
   ]
  },
  {
   "cell_type": "code",
   "execution_count": 19,
   "metadata": {},
   "outputs": [
    {
     "data": {
      "text/plain": [
       "0.00010000000000000002"
      ]
     },
     "execution_count": 19,
     "metadata": {},
     "output_type": "execute_result"
    }
   ],
   "source": [
    "0.1**4"
   ]
  },
  {
   "cell_type": "code",
   "execution_count": 20,
   "metadata": {},
   "outputs": [
    {
     "data": {
      "text/plain": [
       "3.434261745751015"
      ]
     },
     "execution_count": 20,
     "metadata": {},
     "output_type": "execute_result"
    }
   ],
   "source": [
    "4**0.89"
   ]
  },
  {
   "cell_type": "code",
   "execution_count": 41,
   "metadata": {},
   "outputs": [
    {
     "name": "stdout",
     "output_type": "stream",
     "text": [
      "2886\n",
      "2887\n",
      "2888\n",
      "8661\n"
     ]
    }
   ],
   "source": [
    "for i in range(10000):\n",
    "    \n",
    "    a = 1.732**(6*i/10000)\n",
    "    b = (6*i/10000)**1.732\n",
    "    if abs(a - b) < 0.001:\n",
    "        print(i)\n",
    "       "
   ]
  },
  {
   "cell_type": "code",
   "execution_count": 45,
   "metadata": {},
   "outputs": [
    {
     "data": {
      "text/plain": [
       "5.1966"
      ]
     },
     "execution_count": 45,
     "metadata": {},
     "output_type": "execute_result"
    }
   ],
   "source": [
    "\n",
    "(6*8661/10000)"
   ]
  },
  {
   "cell_type": "code",
   "execution_count": 35,
   "metadata": {},
   "outputs": [
    {
     "data": {
      "text/plain": [
       "-0.0007621301576428152"
      ]
     },
     "execution_count": 35,
     "metadata": {},
     "output_type": "execute_result"
    }
   ],
   "source": [
    "3**2.4785 - 2.4785**3"
   ]
  },
  {
   "cell_type": "code",
   "execution_count": 46,
   "metadata": {},
   "outputs": [
    {
     "data": {
      "text/plain": [
       "17.363527256557994"
      ]
     },
     "execution_count": 46,
     "metadata": {},
     "output_type": "execute_result"
    }
   ],
   "source": [
    "1.732**5.1966"
   ]
  },
  {
   "cell_type": "code",
   "execution_count": 47,
   "metadata": {},
   "outputs": [
    {
     "data": {
      "text/plain": [
       "17.36304170992812"
      ]
     },
     "execution_count": 47,
     "metadata": {},
     "output_type": "execute_result"
    }
   ],
   "source": [
    "5.1966**1.732"
   ]
  },
  {
   "cell_type": "code",
   "execution_count": null,
   "metadata": {},
   "outputs": [],
   "source": []
  }
 ],
 "metadata": {
  "kernelspec": {
   "display_name": ".venv",
   "language": "python",
   "name": "python3"
  },
  "language_info": {
   "codemirror_mode": {
    "name": "ipython",
    "version": 3
   },
   "file_extension": ".py",
   "mimetype": "text/x-python",
   "name": "python",
   "nbconvert_exporter": "python",
   "pygments_lexer": "ipython3",
   "version": "3.11.9"
  }
 },
 "nbformat": 4,
 "nbformat_minor": 2
}
