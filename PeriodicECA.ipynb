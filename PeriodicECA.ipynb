{
 "cells": [
  {
   "cell_type": "code",
   "execution_count": null,
   "metadata": {},
   "outputs": [],
   "source": [
    "# input the lattice size, n\n",
    "n_input = int(input(\"Enter the lattice size: \")) \n",
    "# input the ECA rule number\n",
    "r_input = int(input(\"Enter the ECA rule number: \")) "
   ]
  },
  {
   "cell_type": "code",
   "execution_count": 5,
   "metadata": {},
   "outputs": [],
   "source": [
    "import random\n",
    "\n",
    "# this lambda function is a helper function that convert the rule number in binary format of 8 characters\n",
    "binary_r = lambda r: format(r, f'0{8}b')\n",
    "\n",
    "    # This lambda function is a helper function that generate binary strings in \n",
    "    # lexigraphic order for producing the automata rule\n",
    "\n",
    "generate_binary_strings = lambda n: [format(i, f'0{n}b') for i in range(2**n)]\n",
    "\n",
    "    #This lambda function create an arbitrary binary strings of length n\n",
    "\n",
    "random_binary_string = lambda n: ''.join(random.choice('01') for _ in range(n)) \n",
    "\n",
    "    # creating the automata rule and storing it in a dictionary\n",
    "    # the dictionary fetch the previous configuration in one step and assign the botton cell value\n",
    "\n",
    "\n",
    "\n",
    "def generateAutomaton(n_input,r_input):\n",
    "\n",
    "    automata_rule = {}\n",
    "    r = binary_r(r_input)  \n",
    "    for i,key in enumerate(generate_binary_strings(3)[::-1]):\n",
    "        automata_rule[key] = r[i]\n",
    "    \n",
    "\n",
    "    current = random_binary_string(n_input)\n",
    "    print(\"The random binary string generated of length\",n_input,\"is\",current)\n",
    "    print(\"The executed automaton for rule\",r_input,\"is below:\")\n",
    "    have = current\n",
    "    new = '0'*(n_input+1)\n",
    "    periodicity = 0\n",
    "    store = {}\n",
    "    while have!=new:\n",
    "        print(current)\n",
    "        exec = current[-1] + current + current[0]\n",
    "        new = ''\n",
    "        for i in range(len(exec)-2):\n",
    "            new += automata_rule[exec[i:i+3]]\n",
    "        if new in store:\n",
    "            print(new)\n",
    "            print(\"The periodicity is\",periodicity - store[new],\"and the automaton started repeating after\", store[new]+1,\"execution from\",new,\"configuration\" )\n",
    "            break\n",
    "        current = new\n",
    "        store[new] = periodicity\n",
    "        periodicity += 1\n",
    "    else:\n",
    "        print(have)\n",
    "        print(\"The periodicity is\",periodicity)\n",
    "\n",
    "# for some initial configuration and rule, the automaton start to repeat after some executions\n",
    "# but the initial configuration is not included in the cycle"
   ]
  },
  {
   "cell_type": "code",
   "execution_count": 6,
   "metadata": {},
   "outputs": [
    {
     "name": "stdout",
     "output_type": "stream",
     "text": [
      "The random binary string generated of length 4 is 1100\n",
      "The executed automaton for rule 30 is below:\n",
      "1100\n",
      "1011\n",
      "0010\n",
      "0111\n",
      "0100\n",
      "1110\n",
      "1000\n",
      "1101\n",
      "0001\n",
      "1011\n",
      "The periodicity is 8 and the automaton started repeating after 1 execution from 1011 configuration\n",
      "\n",
      "The random binary string generated of length 4 is 1101\n",
      "The executed automaton for rule 40 is below:\n",
      "1101\n",
      "0011\n",
      "0010\n",
      "0000\n",
      "0000\n",
      "The periodicity is 1 and the automaton started repeating after 3 execution from 0000 configuration\n",
      "\n",
      "The random binary string generated of length 4 is 1011\n",
      "The executed automaton for rule 170 is below:\n",
      "1011\n",
      "0111\n",
      "1110\n",
      "1101\n",
      "1011\n",
      "The periodicity is 4\n",
      "\n"
     ]
    }
   ],
   "source": [
    "n = 4  # lattice size\n",
    "rule = [30,40,170]\n",
    "for r in rule:\n",
    "    generateAutomaton(n,r)   \n",
    "    print(\"\")"
   ]
  },
  {
   "cell_type": "code",
   "execution_count": 43,
   "metadata": {},
   "outputs": [],
   "source": [
    "def generatingTransitionDiagram(n_input,r_input):\n",
    "\n",
    "  generate_binary_strings = lambda n: [format(i, f'0{n}b') for i in range(2**n)]\n",
    "  automata_rule = {}\n",
    "  r = f'{r_input:0{8}b}'\n",
    "  for i,key in enumerate(generate_binary_strings(3)[::-1]):\n",
    "    automata_rule[key] = r[i]\n",
    "\n",
    "  \n",
    "  states = {}\n",
    "  for i in range(2**n_input):\n",
    "    bin_form = f'{i:0{n_input}b}'\n",
    "    exec = bin_form[-1] + bin_form + bin_form[0]\n",
    "    next_state = ''\n",
    "    for j in range(n_input):\n",
    "      next_state += automata_rule[exec[j:j+3]]\n",
    "    states[i] = int(next_state,2)\n",
    "    \n",
    "  return states"
   ]
  },
  {
   "cell_type": "code",
   "execution_count": 46,
   "metadata": {},
   "outputs": [
    {
     "name": "stdout",
     "output_type": "stream",
     "text": [
      "{0: 0, 1: 11, 2: 7, 3: 14, 4: 14, 5: 5, 6: 13, 7: 4, 8: 13, 9: 7, 10: 10, 11: 2, 12: 11, 13: 1, 14: 8, 15: 0}\n",
      "{0: 0, 1: 10, 2: 5, 3: 15, 4: 10, 5: 0, 6: 15, 7: 5, 8: 5, 9: 15, 10: 0, 11: 10, 12: 15, 13: 5, 14: 10, 15: 0}\n",
      "{0: 0, 1: 2, 2: 4, 3: 6, 4: 8, 5: 10, 6: 12, 7: 14, 8: 1, 9: 3, 10: 5, 11: 7, 12: 9, 13: 11, 14: 13, 15: 15}\n"
     ]
    }
   ],
   "source": [
    "for i in [30,90,170]:\n",
    "    print(generatingTransitionDiagram(4,i))"
   ]
  }
 ],
 "metadata": {
  "kernelspec": {
   "display_name": ".venv",
   "language": "python",
   "name": "python3"
  },
  "language_info": {
   "codemirror_mode": {
    "name": "ipython",
    "version": 3
   },
   "file_extension": ".py",
   "mimetype": "text/x-python",
   "name": "python",
   "nbconvert_exporter": "python",
   "pygments_lexer": "ipython3",
   "version": "3.11.9"
  }
 },
 "nbformat": 4,
 "nbformat_minor": 2
}
