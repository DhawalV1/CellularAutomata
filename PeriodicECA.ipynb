{
 "cells": [
  {
   "cell_type": "code",
   "execution_count": null,
   "metadata": {},
   "outputs": [],
   "source": [
    "# input the lattice size, n\n",
    "n_input = int(input(\"Enter the lattice size: \")) \n",
    "# input the ECA rule number\n",
    "r_input = int(input(\"Enter the ECA rule number: \")) "
   ]
  },
  {
   "cell_type": "code",
   "execution_count": 173,
   "metadata": {},
   "outputs": [],
   "source": [
    "import random\n",
    "\n",
    "# this lambda function is a helper function that convert the rule number in binary format of 8 characters\n",
    "binary_r = lambda r: format(r, f'0{8}b')\n",
    "\n",
    "    # This lambda function is a helper function that generate binary strings in \n",
    "    # lexigraphic order for producing the automata rule\n",
    "\n",
    "generate_binary_strings = lambda n: [format(i, f'0{n}b') for i in range(2**n)]\n",
    "\n",
    "    #This lambda function create an arbitrary binary strings of length n\n",
    "\n",
    "random_binary_string = lambda n: ''.join(random.choice('01') for _ in range(n)) \n",
    "\n",
    "    # creating the automata rule and storing it in a dictionary\n",
    "    # the dictionary fetch the previous configuration in one step and assign the botton cell value\n",
    "\n",
    "automata_rule = {}\n",
    "r = binary_r(r_input)  \n",
    "for i,key in enumerate(generate_binary_strings(3)[::-1]):\n",
    "    automata_rule[key] = r[i]\n",
    "\n",
    "def generateAutomaton(n_input,r_input):\n",
    "    current = random_binary_string(n_input)\n",
    "    print(\"The random binary string generated of length\",n_input,\"is\",current)\n",
    "    print(\"The executed automaton for rule\",r_input,\"is below:\")\n",
    "    have = current\n",
    "    new = '0'*(n_input+1)\n",
    "    periodicity = 0\n",
    "    store = {}\n",
    "    while have!=new:\n",
    "        print(current)\n",
    "        exec = current[-1] + current + current[0]\n",
    "        new = ''\n",
    "        for i in range(len(exec)-2):\n",
    "            new += automata_rule[exec[i:i+3]]\n",
    "        if new in store:\n",
    "            print(new)\n",
    "            print(\"The periodicity is\",periodicity - store[new],\"and the automaton started repeating after\", store[new]+1,\"execution from\",new,\"configuration\" )\n",
    "            break\n",
    "        current = new\n",
    "        store[new] = periodicity\n",
    "        periodicity += 1\n",
    "    else:\n",
    "        print(have)\n",
    "        print(\"The periodicity is\",periodicity)\n",
    "\n",
    "# for some initial configuration and rule, the automaton start to repeat after some executions\n",
    "# but the initial configuration is not included in the cycle"
   ]
  },
  {
   "cell_type": "code",
   "execution_count": 174,
   "metadata": {},
   "outputs": [
    {
     "name": "stdout",
     "output_type": "stream",
     "text": [
      "The random binary string generated of length 4 is 0010\n",
      "The executed automaton for rule 30 is below:\n",
      "0010\n",
      "0101\n",
      "0000\n",
      "0000\n",
      "The periodicity is 1 and the automaton started repeating after 2 execution from 0000 configuration\n",
      "\n",
      "The random binary string generated of length 4 is 0100\n",
      "The executed automaton for rule 40 is below:\n",
      "0100\n",
      "1010\n",
      "0000\n",
      "0000\n",
      "The periodicity is 1 and the automaton started repeating after 2 execution from 0000 configuration\n",
      "\n",
      "The random binary string generated of length 4 is 0111\n",
      "The executed automaton for rule 170 is below:\n",
      "0111\n",
      "0101\n",
      "0000\n",
      "0000\n",
      "The periodicity is 1 and the automaton started repeating after 2 execution from 0000 configuration\n",
      "\n"
     ]
    }
   ],
   "source": [
    "n = 4  # lattice size\n",
    "rule = [30,40,170]\n",
    "for r in rule:\n",
    "    generateAutomaton(n,r)   \n",
    "    print(\"\")"
   ]
  },
  {
   "cell_type": "code",
   "execution_count": null,
   "metadata": {},
   "outputs": [],
   "source": []
  }
 ],
 "metadata": {
  "kernelspec": {
   "display_name": ".venv",
   "language": "python",
   "name": "python3"
  },
  "language_info": {
   "codemirror_mode": {
    "name": "ipython",
    "version": 3
   },
   "file_extension": ".py",
   "mimetype": "text/x-python",
   "name": "python",
   "nbconvert_exporter": "python",
   "pygments_lexer": "ipython3",
   "version": "3.11.9"
  }
 },
 "nbformat": 4,
 "nbformat_minor": 2
}
