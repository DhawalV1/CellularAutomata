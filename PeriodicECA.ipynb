{
 "cells": [
  {
   "cell_type": "code",
   "execution_count": null,
   "metadata": {},
   "outputs": [],
   "source": [
    "# input the lattice size, n\n",
    "n_input = int(input(\"Enter the lattice size: \")) \n",
    "# input the ECA rule number\n",
    "r_input = int(input(\"Enter the ECA rule number: \")) "
   ]
  },
  {
   "cell_type": "code",
   "execution_count": 1,
   "metadata": {},
   "outputs": [],
   "source": [
    "import random\n",
    "\n",
    "# this lambda function is a helper function that convert the rule number in binary format of 8 characters\n",
    "binary_r = lambda r: format(r, f'0{8}b')\n",
    "\n",
    "    # This lambda function is a helper function that generate binary strings in \n",
    "    # lexigraphic order for producing the automata rule\n",
    "\n",
    "generate_binary_strings = lambda n: [format(i, f'0{n}b') for i in range(2**n)]\n",
    "\n",
    "    #This lambda function create an arbitrary binary strings of length n\n",
    "\n",
    "random_binary_string = lambda n: ''.join(random.choice('01') for _ in range(n)) \n",
    "\n",
    "    # creating the automata rule and storing it in a dictionary\n",
    "    # the dictionary fetch the previous configuration in one step and assign the botton cell value\n",
    "\n",
    "\n",
    "\n",
    "def generateAutomaton(n_input,r_input):\n",
    "\n",
    "    automata_rule = {}\n",
    "    r = binary_r(r_input)  \n",
    "    for i,key in enumerate(generate_binary_strings(3)[::-1]):\n",
    "        automata_rule[key] = r[i]\n",
    "    \n",
    "\n",
    "    current = random_binary_string(n_input)\n",
    "    print(\"The random binary string generated of length\",n_input,\"is\",current)\n",
    "    print(\"The executed automaton for rule\",r_input,\"is below:\")\n",
    "    have = current\n",
    "    new = '0'*(n_input+1)\n",
    "    periodicity = 0\n",
    "    store = {}\n",
    "    while have!=new:\n",
    "        print(current)\n",
    "        exec = current[-1] + current + current[0]\n",
    "        new = ''\n",
    "        for i in range(len(exec)-2):\n",
    "            new += automata_rule[exec[i:i+3]]\n",
    "        if new in store:\n",
    "            print(new)\n",
    "            print(\"The periodicity is\",periodicity - store[new],\"and the automaton started repeating after\", store[new]+1,\"execution from\",new,\"configuration\" )\n",
    "            break\n",
    "        current = new\n",
    "        store[new] = periodicity\n",
    "        periodicity += 1\n",
    "    else:\n",
    "        print(have)\n",
    "        print(\"The periodicity is\",periodicity)\n",
    "\n",
    "# for some initial configuration and rule, the automaton start to repeat after some executions\n",
    "# but the initial configuration is not included in the cycle"
   ]
  },
  {
   "cell_type": "code",
   "execution_count": 2,
   "metadata": {},
   "outputs": [
    {
     "name": "stdout",
     "output_type": "stream",
     "text": [
      "The random binary string generated of length 4 is 0000\n",
      "The executed automaton for rule 30 is below:\n",
      "0000\n",
      "0000\n",
      "The periodicity is 1\n",
      "\n",
      "The random binary string generated of length 4 is 0001\n",
      "The executed automaton for rule 40 is below:\n",
      "0001\n",
      "0000\n",
      "0000\n",
      "The periodicity is 1 and the automaton started repeating after 1 execution from 0000 configuration\n",
      "\n",
      "The random binary string generated of length 4 is 0011\n",
      "The executed automaton for rule 170 is below:\n",
      "0011\n",
      "0110\n",
      "1100\n",
      "1001\n",
      "0011\n",
      "The periodicity is 4\n",
      "\n"
     ]
    }
   ],
   "source": [
    "n = 4  # lattice size\n",
    "rule = [30,40,170]\n",
    "for r in rule:\n",
    "    generateAutomaton(n,r)   \n",
    "    print(\"\")"
   ]
  },
  {
   "cell_type": "code",
   "execution_count": 20,
   "metadata": {},
   "outputs": [],
   "source": [
    "def generatingTransitionDiagram(n_input,r_input):\n",
    "\n",
    "  generate_binary_strings = lambda n: [format(i, f'0{n}b') for i in range(2**n)]\n",
    "  automata_rule = {}\n",
    "  r = f'{r_input:0{8}b}'\n",
    "  for i,key in enumerate(generate_binary_strings(3)[::-1]):\n",
    "    automata_rule[key] = r[i]\n",
    "\n",
    "  \n",
    "  states = {}\n",
    "  for i in range(2**n_input):\n",
    "    bin_form = f'{i:0{n_input}b}'\n",
    "    exec = '0' + bin_form + '0'\n",
    "    next_state = ''\n",
    "    for j in range(n_input):\n",
    "      next_state += automata_rule[exec[j:j+3]]\n",
    "    print(int(next_state,2))\n",
    "    \n",
    "  # return list(states.values())"
   ]
  },
  {
   "cell_type": "code",
   "execution_count": 36,
   "metadata": {},
   "outputs": [
    {
     "name": "stdout",
     "output_type": "stream",
     "text": [
      "0\n",
      "3\n",
      "7\n",
      "4\n",
      "14\n",
      "13\n",
      "9\n",
      "10\n",
      "28\n",
      "31\n",
      "27\n",
      "24\n",
      "18\n",
      "17\n",
      "21\n",
      "22\n",
      "24\n",
      "27\n",
      "31\n",
      "28\n",
      "22\n",
      "21\n",
      "17\n",
      "18\n",
      "4\n",
      "7\n",
      "3\n",
      "0\n",
      "10\n",
      "9\n",
      "13\n",
      "14\n"
     ]
    },
    {
     "ename": "TypeError",
     "evalue": "'NoneType' object is not iterable",
     "output_type": "error",
     "traceback": [
      "\u001b[1;31m---------------------------------------------------------------------------\u001b[0m",
      "\u001b[1;31mTypeError\u001b[0m                                 Traceback (most recent call last)",
      "Cell \u001b[1;32mIn[36], line 4\u001b[0m\n\u001b[0;32m      1\u001b[0m \u001b[38;5;66;03m# for i in [30,90,170]:\u001b[39;00m\n\u001b[0;32m      2\u001b[0m \u001b[38;5;66;03m#     print(generatingTransitionDiagram(4,i))\u001b[39;00m\n\u001b[1;32m----> 4\u001b[0m \u001b[38;5;28;43;01mfor\u001b[39;49;00m\u001b[43m \u001b[49m\u001b[43mi\u001b[49m\u001b[43m \u001b[49m\u001b[38;5;129;43;01min\u001b[39;49;00m\u001b[43m \u001b[49m\u001b[43mgeneratingTransitionDiagram\u001b[49m\u001b[43m(\u001b[49m\u001b[38;5;241;43m5\u001b[39;49m\u001b[43m,\u001b[49m\u001b[38;5;241;43m150\u001b[39;49m\u001b[43m)\u001b[49m\u001b[43m:\u001b[49m\n\u001b[0;32m      5\u001b[0m \u001b[43m    \u001b[49m\u001b[38;5;28;43mprint\u001b[39;49m\u001b[43m(\u001b[49m\u001b[43mi\u001b[49m\u001b[43m)\u001b[49m\n",
      "\u001b[1;31mTypeError\u001b[0m: 'NoneType' object is not iterable"
     ]
    }
   ],
   "source": [
    "# for i in [30,90,170]:\n",
    "#     print(generatingTransitionDiagram(4,i))\n",
    "\n",
    "for i in generatingTransitionDiagram(5,150):\n",
    "    print(i)"
   ]
  },
  {
   "cell_type": "code",
   "execution_count": null,
   "metadata": {},
   "outputs": [],
   "source": []
  },
  {
   "cell_type": "code",
   "execution_count": null,
   "metadata": {},
   "outputs": [],
   "source": []
  }
 ],
 "metadata": {
  "kernelspec": {
   "display_name": ".venv",
   "language": "python",
   "name": "python3"
  },
  "language_info": {
   "codemirror_mode": {
    "name": "ipython",
    "version": 3
   },
   "file_extension": ".py",
   "mimetype": "text/x-python",
   "name": "python",
   "nbconvert_exporter": "python",
   "pygments_lexer": "ipython3",
   "version": "3.11.9"
  }
 },
 "nbformat": 4,
 "nbformat_minor": 2
}
