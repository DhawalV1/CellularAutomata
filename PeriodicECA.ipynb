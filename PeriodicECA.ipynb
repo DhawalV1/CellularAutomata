{
 "cells": [
  {
   "cell_type": "code",
   "execution_count": null,
   "metadata": {},
   "outputs": [],
   "source": [
    "# input the lattice size, n\n",
    "n_input = int(input(\"Enter the lattice size: \")) \n",
    "# input the ECA rule number\n",
    "r_input = int(input(\"Enter the ECA rule number: \")) b"
   ]
  },
  {
   "cell_type": "code",
   "execution_count": 11,
   "metadata": {},
   "outputs": [
    {
     "ename": "NameError",
     "evalue": "name 'r_input' is not defined",
     "output_type": "error",
     "traceback": [
      "\u001b[1;31m---------------------------------------------------------------------------\u001b[0m",
      "\u001b[1;31mNameError\u001b[0m                                 Traceback (most recent call last)",
      "Cell \u001b[1;32mIn[11], line 19\u001b[0m\n\u001b[0;32m     15\u001b[0m     \u001b[38;5;66;03m# creating the automata rule and storing it in a dictionary\u001b[39;00m\n\u001b[0;32m     16\u001b[0m     \u001b[38;5;66;03m# the dictionary fetch the previous configuration in one step and assign the botton cell value\u001b[39;00m\n\u001b[0;32m     18\u001b[0m automata_rule \u001b[38;5;241m=\u001b[39m {}\n\u001b[1;32m---> 19\u001b[0m r \u001b[38;5;241m=\u001b[39m binary_r(\u001b[43mr_input\u001b[49m)  \n\u001b[0;32m     20\u001b[0m \u001b[38;5;28;01mfor\u001b[39;00m i,key \u001b[38;5;129;01min\u001b[39;00m \u001b[38;5;28menumerate\u001b[39m(generate_binary_strings(\u001b[38;5;241m3\u001b[39m)[::\u001b[38;5;241m-\u001b[39m\u001b[38;5;241m1\u001b[39m]):\n\u001b[0;32m     21\u001b[0m     automata_rule[key] \u001b[38;5;241m=\u001b[39m r[i]\n",
      "\u001b[1;31mNameError\u001b[0m: name 'r_input' is not defined"
     ]
    }
   ],
   "source": [
    "import random\n",
    "\n",
    "# this lambda function is a helper function that convert the rule number in binary format of 8 characters\n",
    "binary_r = lambda r: format(r, f'0{8}b')\n",
    "\n",
    "    # This lambda function is a helper function that generate binary strings in \n",
    "    # lexigraphic order for producing the automata rule\n",
    "\n",
    "generate_binary_strings = lambda n: [format(i, f'0{n}b') for i in range(2**n)]\n",
    "\n",
    "    #This lambda function create an arbitrary binary strings of length n\n",
    "\n",
    "random_binary_string = lambda n: ''.join(random.choice('01') for _ in range(n)) \n",
    "\n",
    "    # creating the automata rule and storing it in a dictionary\n",
    "    # the dictionary fetch the previous configuration in one step and assign the botton cell value\n",
    "\n",
    "automata_rule = {}\n",
    "r = binary_r(r_input)  \n",
    "for i,key in enumerate(generate_binary_strings(3)[::-1]):\n",
    "    automata_rule[key] = r[i]\n",
    "\n",
    "def generateAutomaton(n_input,r_input):\n",
    "    \n",
    "\n",
    "    current = random_binary_string(n_input)\n",
    "    print(\"The random binary string generated of length\",n_input,\"is\",current)\n",
    "    print(\"The executed automaton for rule\",r_input,\"is below:\")\n",
    "    have = current\n",
    "    new = '0'*(n_input+1)\n",
    "    periodicity = 0\n",
    "    store = {}\n",
    "    while have!=new:\n",
    "        print(current)\n",
    "        exec = current[-1] + current + current[0]\n",
    "        new = ''\n",
    "        for i in range(len(exec)-2):\n",
    "            new += automata_rule[exec[i:i+3]]\n",
    "        if new in store:\n",
    "            print(new)\n",
    "            print(\"The periodicity is\",periodicity - store[new],\"and the automaton started repeating after\", store[new]+1,\"execution from\",new,\"configuration\" )\n",
    "            break\n",
    "        current = new\n",
    "        store[new] = periodicity\n",
    "        periodicity += 1\n",
    "    else:\n",
    "        print(have)\n",
    "        print(\"The periodicity is\",periodicity)\n",
    "\n",
    "# for some initial configuration and rule, the automaton start to repeat after some executions\n",
    "# but the initial configuration is not included in the cycle"
   ]
  },
  {
   "cell_type": "code",
   "execution_count": 9,
   "metadata": {},
   "outputs": [
    {
     "ename": "NameError",
     "evalue": "name 'generateAutomaton' is not defined",
     "output_type": "error",
     "traceback": [
      "\u001b[1;31m---------------------------------------------------------------------------\u001b[0m",
      "\u001b[1;31mNameError\u001b[0m                                 Traceback (most recent call last)",
      "Cell \u001b[1;32mIn[9], line 4\u001b[0m\n\u001b[0;32m      2\u001b[0m rule \u001b[38;5;241m=\u001b[39m [\u001b[38;5;241m30\u001b[39m,\u001b[38;5;241m40\u001b[39m,\u001b[38;5;241m170\u001b[39m]\n\u001b[0;32m      3\u001b[0m \u001b[38;5;28;01mfor\u001b[39;00m r \u001b[38;5;129;01min\u001b[39;00m rule:\n\u001b[1;32m----> 4\u001b[0m     \u001b[43mgenerateAutomaton\u001b[49m(n,r)   \n\u001b[0;32m      5\u001b[0m     \u001b[38;5;28mprint\u001b[39m(\u001b[38;5;124m\"\u001b[39m\u001b[38;5;124m\"\u001b[39m)\n",
      "\u001b[1;31mNameError\u001b[0m: name 'generateAutomaton' is not defined"
     ]
    }
   ],
   "source": [
    "n = 4  # lattice size\n",
    "rule = [30,40,170]\n",
    "for r in rule:\n",
    "    generateAutomaton(n,r)   \n",
    "    print(\"\")"
   ]
  },
  {
   "cell_type": "code",
   "execution_count": 5,
   "metadata": {},
   "outputs": [],
   "source": [
    "def genA(cur,r_input):\n",
    "    current = cur\n",
    "    # print(\"The random binary string generated of length\",n_input,\"is\",current)\n",
    "    # print(\"The executed automaton for rule\",r_input,\"is below:\")\n",
    "    have = current\n",
    "    new = '0'*(len(cur)+1)\n",
    "    periodicity = 0\n",
    "    store = {}\n",
    "    while have!=new:\n",
    "        print(current)\n",
    "        exec = current[-1] + current + current[0]\n",
    "        new = ''\n",
    "        for i in range(len(exec)-2):\n",
    "            new += automata_rule[exec[i:i+3]]\n",
    "        if new in store:\n",
    "            print(new)\n",
    "            print(\"The periodicity is\",periodicity - store[new],\"and the automaton started repeating after\", store[new]+1,\"execution from\",new,\"configuration\" )\n",
    "            break\n",
    "        current = new\n",
    "        store[new] = periodicity\n",
    "        periodicity += 1\n",
    "    else:\n",
    "        print(have)\n",
    "        print(\"The periodicity is\",periodicity)"
   ]
  },
  {
   "cell_type": "code",
   "execution_count": 6,
   "metadata": {},
   "outputs": [
    {
     "name": "stdout",
     "output_type": "stream",
     "text": [
      "01001\n"
     ]
    },
    {
     "ename": "NameError",
     "evalue": "name 'automata_rule' is not defined",
     "output_type": "error",
     "traceback": [
      "\u001b[1;31m---------------------------------------------------------------------------\u001b[0m",
      "\u001b[1;31mNameError\u001b[0m                                 Traceback (most recent call last)",
      "Cell \u001b[1;32mIn[6], line 1\u001b[0m\n\u001b[1;32m----> 1\u001b[0m \u001b[43mgenA\u001b[49m\u001b[43m(\u001b[49m\u001b[38;5;124;43m'\u001b[39;49m\u001b[38;5;124;43m01001\u001b[39;49m\u001b[38;5;124;43m'\u001b[39;49m\u001b[43m,\u001b[49m\u001b[38;5;241;43m30\u001b[39;49m\u001b[43m)\u001b[49m\n",
      "Cell \u001b[1;32mIn[5], line 14\u001b[0m, in \u001b[0;36mgenA\u001b[1;34m(cur, r_input)\u001b[0m\n\u001b[0;32m     12\u001b[0m new \u001b[38;5;241m=\u001b[39m \u001b[38;5;124m'\u001b[39m\u001b[38;5;124m'\u001b[39m\n\u001b[0;32m     13\u001b[0m \u001b[38;5;28;01mfor\u001b[39;00m i \u001b[38;5;129;01min\u001b[39;00m \u001b[38;5;28mrange\u001b[39m(\u001b[38;5;28mlen\u001b[39m(exec)\u001b[38;5;241m-\u001b[39m\u001b[38;5;241m2\u001b[39m):\n\u001b[1;32m---> 14\u001b[0m     new \u001b[38;5;241m+\u001b[39m\u001b[38;5;241m=\u001b[39m \u001b[43mautomata_rule\u001b[49m[exec[i:i\u001b[38;5;241m+\u001b[39m\u001b[38;5;241m3\u001b[39m]]\n\u001b[0;32m     15\u001b[0m \u001b[38;5;28;01mif\u001b[39;00m new \u001b[38;5;129;01min\u001b[39;00m store:\n\u001b[0;32m     16\u001b[0m     \u001b[38;5;28mprint\u001b[39m(new)\n",
      "\u001b[1;31mNameError\u001b[0m: name 'automata_rule' is not defined"
     ]
    }
   ],
   "source": [
    "genA('01001',30)"
   ]
  },
  {
   "cell_type": "code",
   "execution_count": 12,
   "metadata": {},
   "outputs": [],
   "source": [
    "import random\n",
    "\n",
    "# this lambda function is a helper function that convert the rule number in binary format of 8 characters\n",
    "binary_r = lambda r: format(r, f'0{8}b')\n",
    "\n",
    "    # This lambda function is a helper function that generate binary strings in \n",
    "    # lexigraphic order for producing the automata rule\n",
    "\n",
    "generate_binary_strings = lambda n: [format(i, f'0{n}b') for i in range(2**n)]\n",
    "\n",
    "    #This lambda function create an arbitrary binary strings of length n\n",
    "\n",
    "random_binary_string = lambda n: ''.join(random.choice('01') for _ in range(n))"
   ]
  },
  {
   "cell_type": "code",
   "execution_count": 20,
   "metadata": {},
   "outputs": [],
   "source": [
    "\n",
    "rule = 30\n",
    "r = binary_r(rule)\n",
    "automata_rule = {}\n",
    "\n",
    "for i,key in enumerate(generate_binary_strings(3)[::-1]):\n",
    "    automata_rule[key] = r[i]"
   ]
  },
  {
   "cell_type": "code",
   "execution_count": 21,
   "metadata": {},
   "outputs": [
    {
     "name": "stdout",
     "output_type": "stream",
     "text": [
      "01001\n",
      "01111\n",
      "01000\n",
      "11100\n",
      "10011\n",
      "01110\n",
      "11001\n",
      "00111\n",
      "11100\n",
      "The periodicity is 5 and the automaton started repeating after 3 execution from 11100 configuration\n"
     ]
    }
   ],
   "source": [
    "current = '01001'\n",
    "# print(\"The random binary string generated of length\",n_input,\"is\",current)\n",
    "# print(\"The executed automaton for rule\",r_input,\"is below:\")\n",
    "have = current\n",
    "new = '0'*(len(current)+1)\n",
    "periodicity = 0\n",
    "store = {}\n",
    "while have!=new:\n",
    "    print(current)\n",
    "    exec = current[-1] + current + current[0]\n",
    "    new = ''\n",
    "    for i in range(len(exec)-2):\n",
    "        new += automata_rule[exec[i:i+3]]\n",
    "    if new in store:\n",
    "        print(new)\n",
    "        print(\"The periodicity is\",periodicity - store[new],\"and the automaton started repeating after\", store[new]+1,\"execution from\",new,\"configuration\" )\n",
    "        break\n",
    "    current = new\n",
    "    store[new] = periodicity\n",
    "    periodicity += 1\n",
    "else:\n",
    "    print(have)\n",
    "    print(\"The periodicity is\",periodicity)"
   ]
  },
  {
   "cell_type": "code",
   "execution_count": null,
   "metadata": {},
   "outputs": [],
   "source": []
  }
 ],
 "metadata": {
  "kernelspec": {
   "display_name": ".venv",
   "language": "python",
   "name": "python3"
  },
  "language_info": {
   "codemirror_mode": {
    "name": "ipython",
    "version": 3
   },
   "file_extension": ".py",
   "mimetype": "text/x-python",
   "name": "python",
   "nbconvert_exporter": "python",
   "pygments_lexer": "ipython3",
   "version": "3.11.9"
  }
 },
 "nbformat": 4,
 "nbformat_minor": 2
}
